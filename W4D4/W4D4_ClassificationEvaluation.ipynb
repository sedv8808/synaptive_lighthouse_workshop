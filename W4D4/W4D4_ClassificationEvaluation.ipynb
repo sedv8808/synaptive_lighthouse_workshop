{
 "cells": [
  {
   "cell_type": "markdown",
   "metadata": {},
   "source": [
    "# Classification Evaluation"
   ]
  },
  {
   "cell_type": "markdown",
   "metadata": {},
   "source": [
    "We will create a basic **Logistic Regression** model in order to practice different evaluation metrics. We will use the `diabetes.csv` dataset we have worked with before."
   ]
  },
  {
   "cell_type": "code",
   "execution_count": 1,
   "metadata": {},
   "outputs": [],
   "source": [
    "import pandas as pd\n",
    "from sklearn import model_selection\n",
    "from sklearn.linear_model import LogisticRegression"
   ]
  },
  {
   "cell_type": "code",
   "execution_count": 2,
   "metadata": {},
   "outputs": [],
   "source": [
    "# load data into pandas\n",
    "url = \"https://raw.githubusercontent.com/jbrownlee/Datasets/master/pima-indians-diabetes.data.csv\"\n",
    "names = ['preg', 'plas', 'pres', 'skin', 'test', 'mass', 'pedi', 'age', 'class']\n",
    "df = pd.read_csv(url, names=names)"
   ]
  },
  {
   "cell_type": "code",
   "execution_count": 3,
   "metadata": {},
   "outputs": [],
   "source": [
    "# export target and predictors\n",
    "# target\n",
    "Y = df[\"class\"].values\n",
    "# predictors\n",
    "X = df.drop(\"class\",axis=1).values"
   ]
  },
  {
   "cell_type": "code",
   "execution_count": 4,
   "metadata": {},
   "outputs": [
    {
     "name": "stdout",
     "output_type": "stream",
     "text": [
      "[[  6.    148.     72.    ...  33.6     0.627  50.   ]\n",
      " [  1.     85.     66.    ...  26.6     0.351  31.   ]\n",
      " [  8.    183.     64.    ...  23.3     0.672  32.   ]\n",
      " ...\n",
      " [  5.    121.     72.    ...  26.2     0.245  30.   ]\n",
      " [  1.    126.     60.    ...  30.1     0.349  47.   ]\n",
      " [  1.     93.     70.    ...  30.4     0.315  23.   ]]\n"
     ]
    }
   ],
   "source": [
    "print(X)"
   ]
  },
  {
   "cell_type": "code",
   "execution_count": 6,
   "metadata": {
    "scrolled": true
   },
   "outputs": [
    {
     "name": "stdout",
     "output_type": "stream",
     "text": [
      "[1 0 1 0 1 0 1 0 1 1 0 1 0 1 1 1 1 1 0 1 0 0 1 1 1 1 1 0 0 0 0 1 0 0 0 0 0\n",
      " 1 1 1 0 0 0 1 0 1 0 0 1 0 0 0 0 1 0 0 1 0 0 0 0 1 0 0 1 0 1 0 0 0 1 0 1 0\n",
      " 0 0 0 0 1 0 0 0 0 0 1 0 0 0 1 0 0 0 0 1 0 0 0 0 0 1 1 0 0 0 0 0 0 0 0 1 1\n",
      " 1 0 0 1 1 1 0 0 0 1 0 0 0 1 1 0 0 1 1 1 1 1 0 0 0 0 0 0 0 0 0 0 1 0 0 0 0\n",
      " 0 0 0 0 1 0 1 1 0 0 0 1 0 0 0 0 1 1 0 0 0 0 1 1 0 0 0 1 0 1 0 1 0 0 0 0 0\n",
      " 1 1 1 1 1 0 0 1 1 0 1 0 1 1 1 0 0 0 0 0 0 1 1 0 1 0 0 0 1 1 1 1 0 1 1 1 1\n",
      " 0 0 0 0 0 1 0 0 1 1 0 0 0 1 1 1 1 0 0 0 1 1 0 1 0 0 0 0 0 0 0 0 1 1 0 0 0\n",
      " 1 0 1 0 0 1 0 1 0 0 1 1 0 0 0 0 0 1 0 0 0 1 0 0 1 1 0 0 1 0 0 0 1 1 1 0 0\n",
      " 1 0 1 0 1 1 0 1 0 0 1 0 1 1 0 0 1 0 1 0 0 1 0 1 0 1 1 1 0 0 1 0 1 0 0 0 1\n",
      " 0 0 0 0 1 1 1 0 0 0 0 0 0 0 0 0 1 0 0 0 0 0 1 1 1 0 1 1 0 0 1 0 0 1 0 0 1\n",
      " 1 0 0 0 0 1 0 0 1 0 0 0 0 0 0 0 1 1 1 0 0 1 0 0 1 0 0 1 0 1 1 0 1 0 1 0 1\n",
      " 0 1 1 0 0 0 0 1 1 0 1 0 1 0 0 0 0 1 1 0 1 0 1 0 0 0 0 0 1 0 0 0 0 1 0 0 1\n",
      " 1 1 0 0 1 0 0 1 0 0 0 1 0 0 1 0 0 0 0 0 0 0 0 0 1 0 0 0 0 0 0 0 1 0 0 0 1\n",
      " 0 0 0 1 1 0 0 0 0 0 0 0 1 0 0 0 0 1 0 0 0 1 0 0 0 1 0 0 0 1 0 0 0 0 1 1 0\n",
      " 0 0 0 0 0 1 0 0 0 0 0 0 0 0 0 0 0 1 0 0 0 1 1 1 1 0 0 1 1 0 0 0 0 0 0 0 0\n",
      " 0 0 0 0 0 1 1 0 0 0 0 0 0 0 1 0 0 0 0 0 0 0 1 0 1 1 0 0 0 1 0 1 0 1 0 1 0\n",
      " 1 0 0 1 0 0 1 0 0 0 0 1 1 0 1 0 0 0 0 1 1 0 1 0 0 0 1 1 0 0 0 0 0 0 0 0 0\n",
      " 0 1 0 0 0 0 1 0 0 1 0 0 0 1 0 0 0 1 1 1 0 0 0 0 0 0 1 0 0 0 1 0 1 1 1 1 0\n",
      " 1 1 0 0 0 0 0 0 0 1 1 0 1 0 0 1 0 1 0 0 0 0 0 1 0 1 0 1 0 1 1 0 0 0 0 1 1\n",
      " 0 0 0 1 0 1 1 0 0 1 0 0 1 1 0 0 1 0 0 1 0 0 0 0 0 0 0 1 1 1 0 0 0 0 0 0 1\n",
      " 1 0 0 1 0 0 1 0 1 1 1 0 0 1 1 1 0 1 0 1 0 1 0 0 0 0 1 0]\n"
     ]
    }
   ],
   "source": [
    "print(Y)"
   ]
  },
  {
   "cell_type": "markdown",
   "metadata": {},
   "source": [
    "Let's split now into `train` and `test` datasets. "
   ]
  },
  {
   "cell_type": "code",
   "execution_count": 7,
   "metadata": {},
   "outputs": [],
   "source": [
    "# splitting into train and test sets\n",
    "X_train, X_test, y_train, y_test = model_selection.train_test_split(X, Y, test_size=.25, random_state=7)"
   ]
  },
  {
   "cell_type": "markdown",
   "metadata": {},
   "source": [
    "Let's create the model and train it using `fit`."
   ]
  },
  {
   "cell_type": "code",
   "execution_count": 9,
   "metadata": {},
   "outputs": [
    {
     "data": {
      "text/plain": [
       "LogisticRegression(solver='liblinear')"
      ]
     },
     "execution_count": 9,
     "metadata": {},
     "output_type": "execute_result"
    }
   ],
   "source": [
    "# model creation\n",
    "model = LogisticRegression(solver='liblinear')\n",
    "# fitting model\n",
    "model.fit(X_train, y_train)"
   ]
  },
  {
   "cell_type": "markdown",
   "metadata": {},
   "source": [
    "Now, let's gather the predictions and the probabilities that the model produces on the `test` dataset."
   ]
  },
  {
   "cell_type": "code",
   "execution_count": 10,
   "metadata": {},
   "outputs": [],
   "source": [
    "# creating prediction: labels\n",
    "predicted = model.predict(X_test)\n",
    "\n",
    "# creating prediction: probability\n",
    "predicted_probas = model.predict_proba(X_test)"
   ]
  },
  {
   "cell_type": "code",
   "execution_count": 12,
   "metadata": {},
   "outputs": [
    {
     "data": {
      "text/plain": [
       "array([0, 1, 1, 0, 0, 0, 0, 0, 1, 0, 1, 0, 1, 1, 0, 0, 0, 0, 0, 0, 0, 0,\n",
       "       1, 1, 0, 0, 0, 0, 0, 0, 0, 0, 0, 1, 0, 0, 0, 0, 1, 1, 1, 1, 0, 0,\n",
       "       0, 0, 0, 0, 1, 1, 0, 0, 0, 0, 1, 0, 0, 0, 0, 0, 0, 1, 0, 1, 0, 0,\n",
       "       0, 1, 1, 0, 1, 1, 0, 0, 1, 0, 0, 0, 0, 0, 0, 0, 0, 0, 0, 0, 1, 0,\n",
       "       1, 0, 1, 0, 1, 1, 0, 0, 1, 0, 0, 1, 0, 0, 0, 0, 0, 0, 0, 0, 0, 1,\n",
       "       0, 1, 0, 0, 1, 0, 0, 0, 0, 1, 0, 0, 0, 0, 0, 1, 0, 0, 0, 0, 0, 1,\n",
       "       0, 0, 0, 0, 0, 0, 0, 1, 0, 0, 0, 1, 0, 0, 0, 0, 1, 0, 0, 0, 0, 0,\n",
       "       0, 0, 1, 0, 0, 0, 0, 0, 0, 0, 1, 0, 0, 0, 0, 1, 0, 1, 1, 0, 0, 0,\n",
       "       0, 0, 0, 0, 1, 0, 0, 0, 0, 0, 0, 0, 0, 1, 0, 0])"
      ]
     },
     "execution_count": 12,
     "metadata": {},
     "output_type": "execute_result"
    }
   ],
   "source": [
    "predicted"
   ]
  },
  {
   "cell_type": "markdown",
   "metadata": {},
   "source": [
    "You can see that variable `predicted` is one dimensional and contains the predicted label for each observation in the `test` set."
   ]
  },
  {
   "cell_type": "code",
   "execution_count": 14,
   "metadata": {},
   "outputs": [
    {
     "data": {
      "text/plain": [
       "array([[0.87743742, 0.12256258],\n",
       "       [0.2292271 , 0.7707729 ],\n",
       "       [0.30224771, 0.69775229],\n",
       "       [0.74931543, 0.25068457],\n",
       "       [0.63215091, 0.36784909],\n",
       "       [0.52184149, 0.47815851],\n",
       "       [0.89162754, 0.10837246],\n",
       "       [0.64289432, 0.35710568],\n",
       "       [0.11852925, 0.88147075],\n",
       "       [0.80704434, 0.19295566],\n",
       "       [0.16766741, 0.83233259],\n",
       "       [0.8689381 , 0.1310619 ],\n",
       "       [0.41759808, 0.58240192],\n",
       "       [0.24092975, 0.75907025],\n",
       "       [0.55946235, 0.44053765],\n",
       "       [0.79069648, 0.20930352],\n",
       "       [0.72368368, 0.27631632],\n",
       "       [0.81193844, 0.18806156],\n",
       "       [0.78848342, 0.21151658],\n",
       "       [0.82913873, 0.17086127],\n",
       "       [0.59434325, 0.40565675],\n",
       "       [0.71639923, 0.28360077],\n",
       "       [0.29838967, 0.70161033],\n",
       "       [0.46389619, 0.53610381],\n",
       "       [0.73735571, 0.26264429],\n",
       "       [0.7451564 , 0.2548436 ],\n",
       "       [0.86574847, 0.13425153],\n",
       "       [0.55796962, 0.44203038],\n",
       "       [0.70302182, 0.29697818],\n",
       "       [0.65397802, 0.34602198],\n",
       "       [0.54651878, 0.45348122],\n",
       "       [0.67093455, 0.32906545],\n",
       "       [0.82520464, 0.17479536],\n",
       "       [0.35785909, 0.64214091],\n",
       "       [0.93359946, 0.06640054],\n",
       "       [0.83287429, 0.16712571],\n",
       "       [0.72360798, 0.27639202],\n",
       "       [0.81540364, 0.18459636],\n",
       "       [0.37590063, 0.62409937],\n",
       "       [0.37462766, 0.62537234],\n",
       "       [0.39445206, 0.60554794],\n",
       "       [0.47499148, 0.52500852],\n",
       "       [0.74960909, 0.25039091],\n",
       "       [0.93185402, 0.06814598],\n",
       "       [0.71776486, 0.28223514],\n",
       "       [0.84464827, 0.15535173],\n",
       "       [0.55639575, 0.44360425],\n",
       "       [0.70512583, 0.29487417],\n",
       "       [0.43790883, 0.56209117],\n",
       "       [0.13109532, 0.86890468],\n",
       "       [0.63304841, 0.36695159],\n",
       "       [0.82539106, 0.17460894],\n",
       "       [0.61412256, 0.38587744],\n",
       "       [0.88799722, 0.11200278],\n",
       "       [0.49193113, 0.50806887],\n",
       "       [0.66362733, 0.33637267],\n",
       "       [0.73225221, 0.26774779],\n",
       "       [0.85680633, 0.14319367],\n",
       "       [0.87241978, 0.12758022],\n",
       "       [0.66293832, 0.33706168],\n",
       "       [0.83419653, 0.16580347],\n",
       "       [0.26818933, 0.73181067],\n",
       "       [0.90370193, 0.09629807],\n",
       "       [0.44448298, 0.55551702],\n",
       "       [0.60573256, 0.39426744],\n",
       "       [0.51411605, 0.48588395],\n",
       "       [0.71058622, 0.28941378],\n",
       "       [0.45118221, 0.54881779],\n",
       "       [0.22745043, 0.77254957],\n",
       "       [0.59824324, 0.40175676],\n",
       "       [0.14559277, 0.85440723],\n",
       "       [0.32143903, 0.67856097],\n",
       "       [0.77722131, 0.22277869],\n",
       "       [0.70151181, 0.29848819],\n",
       "       [0.49031959, 0.50968041],\n",
       "       [0.65049059, 0.34950941],\n",
       "       [0.69856822, 0.30143178],\n",
       "       [0.86509861, 0.13490139],\n",
       "       [0.92251508, 0.07748492],\n",
       "       [0.8326279 , 0.1673721 ],\n",
       "       [0.8552542 , 0.1447458 ],\n",
       "       [0.60980807, 0.39019193],\n",
       "       [0.5117807 , 0.4882193 ],\n",
       "       [0.77069462, 0.22930538],\n",
       "       [0.72661771, 0.27338229],\n",
       "       [0.80090104, 0.19909896],\n",
       "       [0.10575785, 0.89424215],\n",
       "       [0.93487167, 0.06512833],\n",
       "       [0.36564552, 0.63435448],\n",
       "       [0.80100904, 0.19899096],\n",
       "       [0.25092731, 0.74907269],\n",
       "       [0.76675945, 0.23324055],\n",
       "       [0.48885322, 0.51114678],\n",
       "       [0.39372235, 0.60627765],\n",
       "       [0.6386726 , 0.3613274 ],\n",
       "       [0.64204204, 0.35795796],\n",
       "       [0.43049769, 0.56950231],\n",
       "       [0.92766812, 0.07233188],\n",
       "       [0.56496854, 0.43503146],\n",
       "       [0.47384614, 0.52615386],\n",
       "       [0.65956042, 0.34043958],\n",
       "       [0.73851507, 0.26148493],\n",
       "       [0.77851638, 0.22148362],\n",
       "       [0.687623  , 0.312377  ],\n",
       "       [0.82475091, 0.17524909],\n",
       "       [0.64152367, 0.35847633],\n",
       "       [0.87290875, 0.12709125],\n",
       "       [0.50824568, 0.49175432],\n",
       "       [0.66727743, 0.33272257],\n",
       "       [0.26725563, 0.73274437],\n",
       "       [0.86365407, 0.13634593],\n",
       "       [0.27340455, 0.72659545],\n",
       "       [0.70952913, 0.29047087],\n",
       "       [0.8444688 , 0.1555312 ],\n",
       "       [0.32760614, 0.67239386],\n",
       "       [0.67415132, 0.32584868],\n",
       "       [0.86211598, 0.13788402],\n",
       "       [0.79235055, 0.20764945],\n",
       "       [0.57733349, 0.42266651],\n",
       "       [0.48769742, 0.51230258],\n",
       "       [0.80829223, 0.19170777],\n",
       "       [0.93523418, 0.06476582],\n",
       "       [0.7464877 , 0.2535123 ],\n",
       "       [0.8818414 , 0.1181586 ],\n",
       "       [0.92579369, 0.07420631],\n",
       "       [0.22053002, 0.77946998],\n",
       "       [0.93366489, 0.06633511],\n",
       "       [0.52722485, 0.47277515],\n",
       "       [0.76337251, 0.23662749],\n",
       "       [0.74937525, 0.25062475],\n",
       "       [0.87829107, 0.12170893],\n",
       "       [0.05506096, 0.94493904],\n",
       "       [0.90670993, 0.09329007],\n",
       "       [0.83407683, 0.16592317],\n",
       "       [0.81337408, 0.18662592],\n",
       "       [0.89541345, 0.10458655],\n",
       "       [0.88439585, 0.11560415],\n",
       "       [0.536291  , 0.463709  ],\n",
       "       [0.90620723, 0.09379277],\n",
       "       [0.06784245, 0.93215755],\n",
       "       [0.72512604, 0.27487396],\n",
       "       [0.67859018, 0.32140982],\n",
       "       [0.63177487, 0.36822513],\n",
       "       [0.40491228, 0.59508772],\n",
       "       [0.67970265, 0.32029735],\n",
       "       [0.68998924, 0.31001076],\n",
       "       [0.66049175, 0.33950825],\n",
       "       [0.91683585, 0.08316415],\n",
       "       [0.12672771, 0.87327229],\n",
       "       [0.52559264, 0.47440736],\n",
       "       [0.83720823, 0.16279177],\n",
       "       [0.60359262, 0.39640738],\n",
       "       [0.74498336, 0.25501664],\n",
       "       [0.86811265, 0.13188735],\n",
       "       [0.69395675, 0.30604325],\n",
       "       [0.78275769, 0.21724231],\n",
       "       [0.40851231, 0.59148769],\n",
       "       [0.79401117, 0.20598883],\n",
       "       [0.64848849, 0.35151151],\n",
       "       [0.87001159, 0.12998841],\n",
       "       [0.59830497, 0.40169503],\n",
       "       [0.76672167, 0.23327833],\n",
       "       [0.7579213 , 0.2420787 ],\n",
       "       [0.92804952, 0.07195048],\n",
       "       [0.2965628 , 0.7034372 ],\n",
       "       [0.70202161, 0.29797839],\n",
       "       [0.55898458, 0.44101542],\n",
       "       [0.85627549, 0.14372451],\n",
       "       [0.68974878, 0.31025122],\n",
       "       [0.16506501, 0.83493499],\n",
       "       [0.80113255, 0.19886745],\n",
       "       [0.23494408, 0.76505592],\n",
       "       [0.25028887, 0.74971113],\n",
       "       [0.6746693 , 0.3253307 ],\n",
       "       [0.61921612, 0.38078388],\n",
       "       [0.55135551, 0.44864449],\n",
       "       [0.56630949, 0.43369051],\n",
       "       [0.5530319 , 0.4469681 ],\n",
       "       [0.6019771 , 0.3980229 ],\n",
       "       [0.6205944 , 0.3794056 ],\n",
       "       [0.48853307, 0.51146693],\n",
       "       [0.82731902, 0.17268098],\n",
       "       [0.83933214, 0.16066786],\n",
       "       [0.8688678 , 0.1311322 ],\n",
       "       [0.6884555 , 0.3115445 ],\n",
       "       [0.72574039, 0.27425961],\n",
       "       [0.86212234, 0.13787766],\n",
       "       [0.93391823, 0.06608177],\n",
       "       [0.89307409, 0.10692591],\n",
       "       [0.19263559, 0.80736441],\n",
       "       [0.54169654, 0.45830346],\n",
       "       [0.59564858, 0.40435142]])"
      ]
     },
     "execution_count": 14,
     "metadata": {},
     "output_type": "execute_result"
    }
   ],
   "source": [
    "predicted_probas"
   ]
  },
  {
   "cell_type": "markdown",
   "metadata": {},
   "source": [
    "Variable `predicted_probas` is two dimensional and contains the predicted probabilities for both classes, 0 and 1 respectively, for each observation."
   ]
  },
  {
   "cell_type": "markdown",
   "metadata": {},
   "source": [
    "### Accuracy"
   ]
  },
  {
   "cell_type": "markdown",
   "metadata": {},
   "source": [
    "This is the most common evaluation metric for classification problems. It is also the most **misused**.  \n",
    "\n",
    "It is only suitable when there are an equal number of observations in each class (which is rarely the case) and that all predictions and prediction errors are equally important, which is often not the case."
   ]
  },
  {
   "cell_type": "code",
   "execution_count": 17,
   "metadata": {},
   "outputs": [
    {
     "name": "stdout",
     "output_type": "stream",
     "text": [
      "Accuracy:  0.78125\n"
     ]
    }
   ],
   "source": [
    "# import accuracy_score from sklearn\n",
    "from sklearn.metrics import accuracy_score\n",
    "\n",
    "# compute accuracy\n",
    "accuracy = accuracy_score(y_test, predicted)\n",
    "\n",
    "# print accuracy\n",
    "print(\"Accuracy: \", accuracy)"
   ]
  },
  {
   "cell_type": "markdown",
   "metadata": {},
   "source": [
    "**F1-score**\n",
    "\n",
    "The **F1-score** can be interpreted as a weighted average of **precision** and **recall**. It is a nice option when we are not sure which one is more important for us and how to find a correct threshold."
   ]
  },
  {
   "cell_type": "code",
   "execution_count": 20,
   "metadata": {},
   "outputs": [
    {
     "name": "stdout",
     "output_type": "stream",
     "text": [
      "F1-score:  0.6379310344827587\n"
     ]
    }
   ],
   "source": [
    "# import f1_score from sklearn\n",
    "from sklearn.metrics import f1_score\n",
    "\n",
    "# compute F1-score\n",
    "f1_score = f1_score(y_test, predicted)\n",
    "\n",
    "# print F1-score\n",
    "print(\"F1-score: \", f1_score)"
   ]
  },
  {
   "cell_type": "markdown",
   "metadata": {},
   "source": [
    "**ROC**\n",
    "\n",
    "The Receiver operating characteristic or **ROC** is a summary of our confusion matrices if we tried different parameters. \n",
    "\n",
    "We can also compare different models. The model that has the highest Area Under the Curve (**AUC**) is the model that we believe might work better with our data."
   ]
  },
  {
   "cell_type": "code",
   "execution_count": 23,
   "metadata": {},
   "outputs": [
    {
     "name": "stdout",
     "output_type": "stream",
     "text": [
      "AUC=0.8319672131147541\n",
      "0.8319672131147541\n"
     ]
    }
   ],
   "source": [
    "# import required metrics\n",
    "from sklearn.metrics import roc_curve\n",
    "from sklearn.metrics import roc_auc_score\n",
    "from matplotlib import pyplot as plt\n",
    "\n",
    "\n",
    "# keep probabilities for the positive outcome only\n",
    "lr_probs = predicted_probas[:, 1]\n",
    "# calculate AUC\n",
    "lr_auc = roc_auc_score(y_test, lr_probs)\n",
    "# Print AUC\n",
    "print(f'AUC={lr_auc}')\n",
    "\n",
    "# print AUC-score\n",
    "print(lr_auc)"
   ]
  },
  {
   "cell_type": "markdown",
   "metadata": {},
   "source": [
    "Now, we can check the **ROC** curve by plotting it."
   ]
  },
  {
   "cell_type": "code",
   "execution_count": 25,
   "metadata": {},
   "outputs": [
    {
     "data": {
      "image/png": "[encoded data removed]",
      "text/plain": [
       "<Figure size 432x288 with 1 Axes>"
      ]
     },
     "metadata": {
      "needs_background": "light"
     },
     "output_type": "display_data"
    }
   ],
   "source": [
    "# calculate roc curve\n",
    "lr_fpr, lr_tpr, _ = roc_curve(y_test, lr_probs)\n",
    "# plot the roc curve for the model\n",
    "plt.plot(lr_fpr, lr_tpr, marker='.', label='ROC')\n",
    "# axis labels\n",
    "plt.xlabel('False Positive Rate')\n",
    "plt.ylabel('True Positive Rate')\n",
    "# show the legend\n",
    "plt.legend()\n",
    "# show the plot\n",
    "plt.show()\n"
   ]
  },
  {
   "cell_type": "markdown",
   "metadata": {},
   "source": [
    "In roc_auc_score we use probabilities (y_proba) instead of class labels. If we passed class labels no errors would be shown but the score would be inaccurate."
   ]
  },
  {
   "cell_type": "markdown",
   "metadata": {},
   "source": [
    "If you want to learn more about the ROC and AUC, I recommend this easy [video](https://www.youtube.com/watch?v=4jRBRDbJemM)"
   ]
  }
 ],
 "metadata": {
  "kernelspec": {
   "display_name": "Python 3",
   "language": "python",
   "name": "python3"
  },
  "language_info": {
   "codemirror_mode": {
    "name": "ipython",
    "version": 3
   },
   "file_extension": ".py",
   "mimetype": "text/x-python",
   "name": "python",
   "nbconvert_exporter": "python",
   "pygments_lexer": "ipython3",
   "version": "3.7.4"
  }
 },
 "nbformat": 4,
 "nbformat_minor": 2
}
