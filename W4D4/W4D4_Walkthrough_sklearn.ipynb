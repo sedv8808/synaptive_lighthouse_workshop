{
 "cells": [
  {
   "cell_type": "markdown",
   "metadata": {},
   "source": [
    "# Understanding the data splitting functions in scikit-learn"
   ]
  },
  {
   "cell_type": "markdown",
   "metadata": {},
   "source": [
    "Let’s get started and create a Python list of numbers from `0` to `9` using `range()` :\n"
   ]
  },
  {
   "cell_type": "code",
   "execution_count": 11,
   "metadata": {},
   "outputs": [
    {
     "name": "stdout",
     "output_type": "stream",
     "text": [
      "[0, 1, 2, 3, 4, 5, 6, 7, 8, 9]\n"
     ]
    }
   ],
   "source": [
    "X =  list(range(10))\n",
    "print(X)"
   ]
  },
  {
   "cell_type": "markdown",
   "metadata": {},
   "source": [
    "Then, we create another list which contains the square values of numbers in X using list comprehension:"
   ]
  },
  {
   "cell_type": "code",
   "execution_count": 12,
   "metadata": {},
   "outputs": [
    {
     "name": "stdout",
     "output_type": "stream",
     "text": [
      "[0, 1, 4, 9, 16, 25, 36, 49, 64, 81]\n"
     ]
    }
   ],
   "source": [
    "y = [x*x for x in X]\n",
    "print(y)"
   ]
  },
  {
   "cell_type": "markdown",
   "metadata": {},
   "source": [
    "Next, we will import model_selection from scikit-learn.  \n",
    "Let's then use the function train_test_split( ) to split our data into two sets:"
   ]
  },
  {
   "cell_type": "code",
   "execution_count": 10,
   "metadata": {},
   "outputs": [
    {
     "name": "stdout",
     "output_type": "stream",
     "text": [
      "X_train:  [4, 9, 3, 5, 7, 6, 1]\n",
      "y_train:  [16, 81, 9, 25, 49, 36, 1]\n",
      "X_test:  [8, 2, 0]\n",
      "y_test:  [64, 4, 0]\n"
     ]
    }
   ],
   "source": [
    "import sklearn.model_selection as model_selection\n",
    "\n",
    "X_train, X_test, y_train, y_test = model_selection.train_test_split(X, y, train_size=0.75,test_size=0.25, random_state=101)\n",
    "\n",
    "print(\"X_train: \", X_train)\n",
    "print(\"y_train: \", y_train)\n",
    "print(\"X_test: \", X_test)\n",
    "print(\"y_test: \", y_test)"
   ]
  },
  {
   "cell_type": "markdown",
   "metadata": {},
   "source": [
    "Other way to split your data is using `cross_validation.train_test_split( )` for smiliar tasks. \n",
    "\n",
    "In fact, it’s just an old way of doing the same thing. We are just naming the module differently."
   ]
  },
  {
   "cell_type": "code",
   "execution_count": 13,
   "metadata": {},
   "outputs": [
    {
     "name": "stdout",
     "output_type": "stream",
     "text": [
      "X_train:  [4, 9, 3, 5, 7, 6, 1]\n",
      "y_train:  [16, 81, 9, 25, 49, 36, 1]\n",
      "X_test:  [8, 2, 0]\n",
      "y_test:  [64, 4, 0]\n"
     ]
    }
   ],
   "source": [
    "import sklearn.model_selection as cross_validation\n",
    "\n",
    "X_train, X_test, y_train, y_test = cross_validation.train_test_split(X, y, train_size=0.75, random_state=101)\n",
    "\n",
    "print(\"X_train: \", X_train)\n",
    "print(\"y_train: \", y_train)\n",
    "print(\"X_test: \", X_test)\n",
    "print(\"y_test: \", y_test)"
   ]
  },
  {
   "cell_type": "markdown",
   "metadata": {},
   "source": [
    "In **scikit-learn**, you can use the `KFold( )` function to split your dataset into n consecutive folds."
   ]
  },
  {
   "cell_type": "code",
   "execution_count": 14,
   "metadata": {},
   "outputs": [
    {
     "name": "stdout",
     "output_type": "stream",
     "text": [
      "X_test:  [0 1]\n",
      "X_test:  [2 3]\n",
      "X_test:  [4 5]\n",
      "X_test:  [6 7]\n",
      "X_test:  [8 9]\n"
     ]
    }
   ],
   "source": [
    "from sklearn.model_selection import KFold\n",
    "import numpy as np\n",
    "\n",
    "kf = KFold(n_splits=5)\n",
    "X = np.array(X)\n",
    "y = np.array(y)\n",
    "for train_index, test_index in kf.split(X):\n",
    "    X_train, X_test = X[train_index], X[test_index]\n",
    "    y_train, y_test = y[train_index], y[test_index]\n",
    "    print(\"X_test: \", X_test)"
   ]
  },
  {
   "cell_type": "code",
   "execution_count": null,
   "metadata": {},
   "outputs": [],
   "source": []
  }
 ],
 "metadata": {
  "kernelspec": {
   "display_name": "Python 3",
   "language": "python",
   "name": "python3"
  },
  "language_info": {
   "codemirror_mode": {
    "name": "ipython",
    "version": 3
   },
   "file_extension": ".py",
   "mimetype": "text/x-python",
   "name": "python",
   "nbconvert_exporter": "python",
   "pygments_lexer": "ipython3",
   "version": "3.7.4"
  }
 },
 "nbformat": 4,
 "nbformat_minor": 2
}
