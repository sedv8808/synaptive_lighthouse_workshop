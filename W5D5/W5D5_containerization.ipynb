{
 "cells": [
  {
   "cell_type": "markdown",
   "metadata": {
    "slideshow": {
     "slide_type": "slide"
    }
   },
   "source": [
    "## Lighthouse Labs - Synaptive Medical\n",
    "\n",
    "### W5D5 Containerization\n",
    "\n",
    "Instructor: Socorro Dominguez  \n",
    "December 18, 2020"
   ]
  },
  {
   "cell_type": "markdown",
   "metadata": {
    "slideshow": {
     "slide_type": "slide"
    }
   },
   "source": [
    "**Agenda:**\n",
    "- What are containers? (10 min)\n",
    "- Why do we need them? (5 min)\n",
    "- Docker - how it works (10 min)\n",
    "- Docker for Data Scientists (5 min)"
   ]
  },
  {
   "cell_type": "markdown",
   "metadata": {
    "slideshow": {
     "slide_type": "slide"
    }
   },
   "source": [
    "## Documenting and loading dependencies\n",
    "\n",
    "You've made some beautiful data analysis pipeline/project using Python. It runs on your machine, but how easily can you, or someone else, get it working on theirs? The answer usually is, it depends...\n",
    "\n",
    "What does it depend on?"
   ]
  },
  {
   "cell_type": "markdown",
   "metadata": {
    "slideshow": {
     "slide_type": "fragment"
    }
   },
   "source": [
    "- Does your README and your scripts make it blatantly obvious what programs and packages need to run your data analysis pipeline/project? \n",
    "    "
   ]
  },
  {
   "cell_type": "markdown",
   "metadata": {
    "slideshow": {
     "slide_type": "fragment"
    }
   },
   "source": [
    "- Do you also document the version numbers of the programs and packages you used? This can have big consequences when it comes to replicability..."
   ]
  },
  {
   "cell_type": "markdown",
   "metadata": {
    "slideshow": {
     "slide_type": "slide"
    }
   },
   "source": [
    "## How do I find out what packages and versions I am using?\n",
    "\n",
    "### In Python \n",
    "\n",
    "From the command line, `pip freeze`, will list all installed packages and their versions.\n",
    "\n",
    "To find the version of Python, from inside Python type:\n",
    "```\n",
    "import sys\n",
    "print (sys.version)\n",
    "```"
   ]
  },
  {
   "cell_type": "markdown",
   "metadata": {
    "slideshow": {
     "slide_type": "slide"
    }
   },
   "source": [
    "## Tools for managing software and package dependencies\n",
    "\n",
    "### Language agnostic (polyglot - can be used with more than Python):\n",
    "\n",
    "- Docker\n",
    "- conda"
   ]
  },
  {
   "cell_type": "markdown",
   "metadata": {
    "slideshow": {
     "slide_type": "slide"
    }
   },
   "source": [
    "## What is Docker?\n",
    "\n",
    "*\"Docker containers wrap a piece of software in a complete filesystem that contains everything needed to run: code, runtime, system tools, system libraries – anything that can be installed on a server. This guarantees that the software will always run the same, regardless of its environment.\"*\n",
    "\n",
    "*Source: https://www.docker.com/what-docker*"
   ]
  },
  {
   "cell_type": "markdown",
   "metadata": {
    "slideshow": {
     "slide_type": "slide"
    }
   },
   "source": [
    "## Container versus Virtual Machines\n",
    "\n",
    "*Key takehome - Docker shares the host's operating system, whereas virtual machines have a completely separate, additional operating system. This can make Docker lighter (smaller in terms of size) and faster than using a virtual machine.*\n",
    "\n",
    "![alt tag](img/container_v_vm.png)\n",
    "*Source: https://www.docker.com/resources/what-container*\n"
   ]
  },
  {
   "cell_type": "markdown",
   "metadata": {
    "slideshow": {
     "slide_type": "slide"
    }
   },
   "source": [
    "## Motivating example - Hello Docker!\n",
    "\n",
    "We can use the tool [hellodocker](https://github.com/docker-library/docs/tree/master/hello-world) to make sure you have Docker installed properly.\n",
    "\n",
    "**Problem** - [hellodocker](https://github.com/docker-library/docs/tree/master/hello-world) is pretty easy to install. But some other packages such as Keras are hard to install (especially on Windows...)\n",
    "\n",
    "**Solution** - let's use a docker container -we will do a walkthrough on this - \n"
   ]
  },
  {
   "cell_type": "markdown",
   "metadata": {
    "slideshow": {
     "slide_type": "slide"
    }
   },
   "source": [
    "### Let's do it!\n",
    "\n",
    "### Step 0 - Install Docker (do this once)\n",
    "- Follow the [instructions in the MDS installation guide](https://ubc-mds.github.io/resources_pages/installation_instructions/) to do this.\n",
    "\n",
    "### Step 1 - launch the Docker app (for OSX & Windows only)\n",
    "- Use launchpad/Finder/Start menu/etc to find and launch Docker\n",
    "\n",
    "### Step 2 - get makefile2graph image from Dockerhub\n",
    "- open command line (terminal/GitBash)\n",
    "- type: `docker run hello-world`\n",
    "- verify that it successfully pulled by typing: `docker images`, you should see something like:\n",
    "```\n",
    "REPOSITORY                TAG                 IMAGE ID            CREATED             SIZE\n",
    "hello-world              latest              bf756fb1ae65         11 months ago       13.3kB\n",
    "```"
   ]
  },
  {
   "cell_type": "markdown",
   "metadata": {
    "slideshow": {
     "slide_type": "slide"
    }
   },
   "source": [
    "## Wait! Where did this come from? [Docker Hub](https://hub.docker.com/)!\n",
    "\n",
    "\n",
    "- [Docker Hub](https://hub.docker.com/) is like GitHub but just for Docker images. \n",
    "- So what you downloaded was a Docker image that lives in this repository: https://hub.docker.com/_/hello-world\n"
   ]
  },
  {
   "cell_type": "markdown",
   "metadata": {
    "slideshow": {
     "slide_type": "slide"
    }
   },
   "source": [
    "### Step 3 - launch a container from the image and poke around!\n",
    "\n",
    "- type: `docker run -it hello-world`\n",
    "- If it worked, then your command line prompt should now look something like this:\n",
    "\n",
    "```\n",
    "root@ad0560c5b81a:/# \n",
    "```\n",
    "- use `ls`, `cd`, `pwd` and explore the container\n",
    "- type `exit` to leave when you are done (your prompt will look normal again)!"
   ]
  },
  {
   "cell_type": "markdown",
   "metadata": {
    "slideshow": {
     "slide_type": "slide"
    }
   },
   "source": [
    "### Step 4 - clean up your container!\n",
    "\n",
    "- After you close a container it still \"hangs\" around... \n",
    "- View any existing containers using `docker ps -a`\n",
    "- Kill the container by typing `docker rm <container_id>`\n",
    "- Prove to yourself that the container is no longer \"hanging around\" via `docker ps -a`, but that you still have the image installed (via `docker images`)"
   ]
  },
  {
   "cell_type": "markdown",
   "metadata": {
    "slideshow": {
     "slide_type": "slide"
    }
   },
   "source": [
    "### That's a lot of work...\n",
    "\n",
    "- We can tell Docker to delete the container upon exit using the `--rm` flag in the run command.\n",
    "- Type the command below to run the container again, exit it and prove to yourself that the container was deleted (but not the image!):\n",
    "\n",
    "```\n",
    "docker run -it --rm hello-world\n",
    "```"
   ]
  },
  {
   "cell_type": "markdown",
   "metadata": {
    "slideshow": {
     "slide_type": "slide"
    }
   },
   "source": [
    "### Image vs container?\n",
    "\n",
    "Analogy: The program Chrome is like a Docker image, whereas a Chrome window is like a Docker container.\n",
    "\n",
    "<img src=\"img/instance_analogy.png\" width=\"600\" align=\"left\"/>\n"
   ]
  },
  {
   "cell_type": "markdown",
   "metadata": {
    "slideshow": {
     "slide_type": "slide"
    }
   },
   "source": [
    "### Step 5 - connect the container to your hard drive\n",
    "\n",
    "To run the certain images on a file that exists on our laptop we will need to mount at least part of our filesystem as a volume on the Docker container. We do that with `-v <absolute path on laptop>:<relative path from container home directory>`.\n",
    "\n",
    "\n",
    "_**notes:**_\n",
    "- _**Windows machines might need to explicitly share drives with Docker, see [here](http://peterjohnlightfoot.com/docker-for-windows-on-hyper-v-fix-the-host-volume-sharing-issue/) for how to do so.**_\n",
    "- _**Windows machine might have to use Windows filepaths...**_"
   ]
  },
  {
   "cell_type": "markdown",
   "metadata": {
    "slideshow": {
     "slide_type": "slide"
    }
   },
   "source": [
    "## Debrief - what did we just do? \n",
    "\n",
    "Let's now dig deeper into the commands and tools we just used to become more familiar with Docker! Let's fill in this table to explain what each part of our Docker commands did:\n",
    "\n",
    "| command/flag | What it does          | \n",
    "|--------------|-----------------------|\n",
    "| `pull`       | Downloads a Docker image from Docker Hub |\n",
    "| `images`     | Tells you what images are installed on your machine                     |\n",
    "| `run`        | Launches a Docker container from an image                      |\n",
    "| `-it`        | Tells Docker to run the container interactively                      |\n",
    "| `--rm`       | Makes a container ephemeral (deletes it upon exit)                      |\n",
    "| `-v`         | Mounts a volume of your laptop to the Docker container                     |\n",
    "| `exit`       | Exits a Docker container                      |\n",
    "| `-p`         | Connects Container to a port on your machine so that you can run a program through a web browser |"
   ]
  },
  {
   "cell_type": "markdown",
   "metadata": {
    "slideshow": {
     "slide_type": "slide"
    }
   },
   "source": [
    "You will have now 15 minutes to make sure that you have Docker installed and that it is running.  \n",
    "Try running `Hello-world`\n",
    "\n",
    "If your install is completed, read the following [article](https://www.freecodecamp.org/news/a-beginner-friendly-introduction-to-containers-vms-and-docker-79a9e3e119b/)   \n",
    "We will do a walkthrough afterwards."
   ]
  },
  {
   "cell_type": "markdown",
   "metadata": {},
   "source": [
    "Instructions: For Keras Tensorflow Walkthrough\n",
    "1. Make sure all other Jupyter Notebooks/Labs are closed.\n",
    "2. Go to terminal and for the first time do `docker pull jupyter/tensorflow-notebook`\n",
    "3. Run the following command: `docker run --rm -p 8888:8888 -v <your path>:/home/jovyan/work/ jupyter/tensorflow-notebook`, for example `docker run --rm -p 8888:8888 -v /Users/seiryu8808/Desktop/Lighthouse/synaptive_lighthouse_workshop/W5D5/:/home/jovyan/work/ jupyter/tensorflow-notebook`"
   ]
  }
 ],
 "metadata": {
  "celltoolbar": "Slideshow",
  "kernelspec": {
   "display_name": "Python 3",
   "language": "python",
   "name": "python3"
  },
  "language_info": {
   "codemirror_mode": {
    "name": "ipython",
    "version": 3
   },
   "file_extension": ".py",
   "mimetype": "text/x-python",
   "name": "python",
   "nbconvert_exporter": "python",
   "pygments_lexer": "ipython3",
   "version": "3.7.4"
  }
 },
 "nbformat": 4,
 "nbformat_minor": 2
}
