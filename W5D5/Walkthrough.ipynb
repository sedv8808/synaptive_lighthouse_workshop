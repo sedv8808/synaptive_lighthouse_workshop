{
 "cells": [
  {
   "cell_type": "markdown",
   "metadata": {},
   "source": [
    "## Your First Deep Learning Project in Python\n",
    "### Predicting Diabetes using NN"
   ]
  },
  {
   "cell_type": "markdown",
   "metadata": {},
   "source": [
    "* We will use the NumPy library to load our dataset.\n",
    "* We will use two classes from the Keras library to define our model."
   ]
  },
  {
   "cell_type": "code",
   "execution_count": 3,
   "metadata": {},
   "outputs": [],
   "source": [
    "# first neural network with keras tutorial\n",
    "from numpy import loadtxt\n",
    "from tensorflow.keras import Sequential\n",
    "from tensorflow.keras.layers import Dense"
   ]
  },
  {
   "cell_type": "markdown",
   "metadata": {},
   "source": [
    "In this Keras tutorial, we are going to use the Pima Indians onset of diabetes dataset. \n",
    "\n",
    "This is a standard machine learning dataset from the UCI Machine Learning repository. It describes patient medical record data for Pima Indians and whether they had an onset of diabetes within five years.  \n",
    "  \n",
    "As such, it is a binary classification problem (onset of diabetes as 1 or not as 0). All of the input variables that describe each patient are numerical. This makes it easy to use directly with NN that expect numerical input and output values, and ideal for our first neural network in Keras.\n",
    "\n",
    "The dataset is available from here:\n",
    "\n",
    "> [pima-indians-diabetes.csv](https://raw.githubusercontent.com/jbrownlee/Datasets/master/pima-indians-diabetes.data.csv)  \n",
    "> [Dataset Details](https://raw.githubusercontent.com/jbrownlee/Datasets/master/pima-indians-diabetes.names)"
   ]
  },
  {
   "cell_type": "markdown",
   "metadata": {},
   "source": [
    "Let's now load the file as a matrix of numbers using the NumPy function `loadtxt()`.\n",
    "\n",
    "There are eight input variables and one output variable (the last column). We will be learning a model to map rows of input variables (X) to an output variable (y), which we often summarize as y = f(X).\n",
    "\n",
    "The variables can be summarized as follows:\n",
    "\n",
    "**Input Variables (X):**\n",
    "\n",
    "1. Number of times pregnant\n",
    "2. Plasma glucose concentration a 2 hours in an oral glucose tolerance test\n",
    "3. Diastolic blood pressure (mm Hg)\n",
    "4. Triceps skin fold thickness (mm)\n",
    "5. 2-Hour serum insulin (mu U/ml)\n",
    "6. Body mass index (weight in kg/(height in m)^2)\n",
    "7. Diabetes pedigree function\n",
    "8. Age (years)\n",
    "\n",
    "\n",
    "**Class variable (Y)**\n",
    "1. `0` the patient has no diabetes.\n",
    "2. `1` the patient has diabetes."
   ]
  },
  {
   "cell_type": "markdown",
   "metadata": {},
   "source": [
    "We can split the array into two arrays by selecting subsets of columns using the standard NumPy slice operator or “:”   \n",
    "\n",
    "We can select the first 8 columns from index 0 to index 7 via the slice 0:8.  \n",
    "\n",
    "We can then select the output column (the 9th variable) via index 8."
   ]
  },
  {
   "cell_type": "markdown",
   "metadata": {},
   "source": []
  },
  {
   "cell_type": "code",
   "execution_count": 4,
   "metadata": {},
   "outputs": [],
   "source": [
    "# load the dataset\n",
    "dataset = loadtxt('data/pima-indians-diabetes.data.csv', delimiter=',')\n",
    "# split into input (X) and output (y) variables\n",
    "X = dataset[:,0:8]\n",
    "y = dataset[:,8]"
   ]
  },
  {
   "cell_type": "code",
   "execution_count": 5,
   "metadata": {},
   "outputs": [
    {
     "data": {
      "text/plain": [
       "array([[  6.   , 148.   ,  72.   , ...,   0.627,  50.   ,   1.   ],\n",
       "       [  1.   ,  85.   ,  66.   , ...,   0.351,  31.   ,   0.   ],\n",
       "       [  8.   , 183.   ,  64.   , ...,   0.672,  32.   ,   1.   ],\n",
       "       ...,\n",
       "       [  5.   , 121.   ,  72.   , ...,   0.245,  30.   ,   0.   ],\n",
       "       [  1.   , 126.   ,  60.   , ...,   0.349,  47.   ,   1.   ],\n",
       "       [  1.   ,  93.   ,  70.   , ...,   0.315,  23.   ,   0.   ]])"
      ]
     },
     "execution_count": 5,
     "metadata": {},
     "output_type": "execute_result"
    }
   ],
   "source": [
    "dataset"
   ]
  },
  {
   "cell_type": "code",
   "execution_count": 6,
   "metadata": {},
   "outputs": [
    {
     "data": {
      "text/plain": [
       "array([[  6.   , 148.   ,  72.   , ...,  33.6  ,   0.627,  50.   ],\n",
       "       [  1.   ,  85.   ,  66.   , ...,  26.6  ,   0.351,  31.   ],\n",
       "       [  8.   , 183.   ,  64.   , ...,  23.3  ,   0.672,  32.   ],\n",
       "       ...,\n",
       "       [  5.   , 121.   ,  72.   , ...,  26.2  ,   0.245,  30.   ],\n",
       "       [  1.   , 126.   ,  60.   , ...,  30.1  ,   0.349,  47.   ],\n",
       "       [  1.   ,  93.   ,  70.   , ...,  30.4  ,   0.315,  23.   ]])"
      ]
     },
     "execution_count": 6,
     "metadata": {},
     "output_type": "execute_result"
    }
   ],
   "source": [
    "X"
   ]
  },
  {
   "cell_type": "code",
   "execution_count": 7,
   "metadata": {},
   "outputs": [
    {
     "data": {
      "text/plain": [
       "array([1., 0., 1., 0., 1., 0., 1., 0., 1., 1., 0., 1., 0., 1., 1., 1., 1.,\n",
       "       1., 0., 1., 0., 0., 1., 1., 1., 1., 1., 0., 0., 0., 0., 1., 0., 0.,\n",
       "       0., 0., 0., 1., 1., 1., 0., 0., 0., 1., 0., 1., 0., 0., 1., 0., 0.,\n",
       "       0., 0., 1., 0., 0., 1., 0., 0., 0., 0., 1., 0., 0., 1., 0., 1., 0.,\n",
       "       0., 0., 1., 0., 1., 0., 0., 0., 0., 0., 1., 0., 0., 0., 0., 0., 1.,\n",
       "       0., 0., 0., 1., 0., 0., 0., 0., 1., 0., 0., 0., 0., 0., 1., 1., 0.,\n",
       "       0., 0., 0., 0., 0., 0., 0., 1., 1., 1., 0., 0., 1., 1., 1., 0., 0.,\n",
       "       0., 1., 0., 0., 0., 1., 1., 0., 0., 1., 1., 1., 1., 1., 0., 0., 0.,\n",
       "       0., 0., 0., 0., 0., 0., 0., 1., 0., 0., 0., 0., 0., 0., 0., 0., 1.,\n",
       "       0., 1., 1., 0., 0., 0., 1., 0., 0., 0., 0., 1., 1., 0., 0., 0., 0.,\n",
       "       1., 1., 0., 0., 0., 1., 0., 1., 0., 1., 0., 0., 0., 0., 0., 1., 1.,\n",
       "       1., 1., 1., 0., 0., 1., 1., 0., 1., 0., 1., 1., 1., 0., 0., 0., 0.,\n",
       "       0., 0., 1., 1., 0., 1., 0., 0., 0., 1., 1., 1., 1., 0., 1., 1., 1.,\n",
       "       1., 0., 0., 0., 0., 0., 1., 0., 0., 1., 1., 0., 0., 0., 1., 1., 1.,\n",
       "       1., 0., 0., 0., 1., 1., 0., 1., 0., 0., 0., 0., 0., 0., 0., 0., 1.,\n",
       "       1., 0., 0., 0., 1., 0., 1., 0., 0., 1., 0., 1., 0., 0., 1., 1., 0.,\n",
       "       0., 0., 0., 0., 1., 0., 0., 0., 1., 0., 0., 1., 1., 0., 0., 1., 0.,\n",
       "       0., 0., 1., 1., 1., 0., 0., 1., 0., 1., 0., 1., 1., 0., 1., 0., 0.,\n",
       "       1., 0., 1., 1., 0., 0., 1., 0., 1., 0., 0., 1., 0., 1., 0., 1., 1.,\n",
       "       1., 0., 0., 1., 0., 1., 0., 0., 0., 1., 0., 0., 0., 0., 1., 1., 1.,\n",
       "       0., 0., 0., 0., 0., 0., 0., 0., 0., 1., 0., 0., 0., 0., 0., 1., 1.,\n",
       "       1., 0., 1., 1., 0., 0., 1., 0., 0., 1., 0., 0., 1., 1., 0., 0., 0.,\n",
       "       0., 1., 0., 0., 1., 0., 0., 0., 0., 0., 0., 0., 1., 1., 1., 0., 0.,\n",
       "       1., 0., 0., 1., 0., 0., 1., 0., 1., 1., 0., 1., 0., 1., 0., 1., 0.,\n",
       "       1., 1., 0., 0., 0., 0., 1., 1., 0., 1., 0., 1., 0., 0., 0., 0., 1.,\n",
       "       1., 0., 1., 0., 1., 0., 0., 0., 0., 0., 1., 0., 0., 0., 0., 1., 0.,\n",
       "       0., 1., 1., 1., 0., 0., 1., 0., 0., 1., 0., 0., 0., 1., 0., 0., 1.,\n",
       "       0., 0., 0., 0., 0., 0., 0., 0., 0., 1., 0., 0., 0., 0., 0., 0., 0.,\n",
       "       1., 0., 0., 0., 1., 0., 0., 0., 1., 1., 0., 0., 0., 0., 0., 0., 0.,\n",
       "       1., 0., 0., 0., 0., 1., 0., 0., 0., 1., 0., 0., 0., 1., 0., 0., 0.,\n",
       "       1., 0., 0., 0., 0., 1., 1., 0., 0., 0., 0., 0., 0., 1., 0., 0., 0.,\n",
       "       0., 0., 0., 0., 0., 0., 0., 0., 1., 0., 0., 0., 1., 1., 1., 1., 0.,\n",
       "       0., 1., 1., 0., 0., 0., 0., 0., 0., 0., 0., 0., 0., 0., 0., 0., 1.,\n",
       "       1., 0., 0., 0., 0., 0., 0., 0., 1., 0., 0., 0., 0., 0., 0., 0., 1.,\n",
       "       0., 1., 1., 0., 0., 0., 1., 0., 1., 0., 1., 0., 1., 0., 1., 0., 0.,\n",
       "       1., 0., 0., 1., 0., 0., 0., 0., 1., 1., 0., 1., 0., 0., 0., 0., 1.,\n",
       "       1., 0., 1., 0., 0., 0., 1., 1., 0., 0., 0., 0., 0., 0., 0., 0., 0.,\n",
       "       0., 1., 0., 0., 0., 0., 1., 0., 0., 1., 0., 0., 0., 1., 0., 0., 0.,\n",
       "       1., 1., 1., 0., 0., 0., 0., 0., 0., 1., 0., 0., 0., 1., 0., 1., 1.,\n",
       "       1., 1., 0., 1., 1., 0., 0., 0., 0., 0., 0., 0., 1., 1., 0., 1., 0.,\n",
       "       0., 1., 0., 1., 0., 0., 0., 0., 0., 1., 0., 1., 0., 1., 0., 1., 1.,\n",
       "       0., 0., 0., 0., 1., 1., 0., 0., 0., 1., 0., 1., 1., 0., 0., 1., 0.,\n",
       "       0., 1., 1., 0., 0., 1., 0., 0., 1., 0., 0., 0., 0., 0., 0., 0., 1.,\n",
       "       1., 1., 0., 0., 0., 0., 0., 0., 1., 1., 0., 0., 1., 0., 0., 1., 0.,\n",
       "       1., 1., 1., 0., 0., 1., 1., 1., 0., 1., 0., 1., 0., 1., 0., 0., 0.,\n",
       "       0., 1., 0.])"
      ]
     },
     "execution_count": 7,
     "metadata": {},
     "output_type": "execute_result"
    }
   ],
   "source": [
    "y"
   ]
  },
  {
   "cell_type": "markdown",
   "metadata": {},
   "source": [
    "## Define the model"
   ]
  },
  {
   "cell_type": "markdown",
   "metadata": {},
   "source": [
    "Models in Keras are defined as a sequence of layers.\n",
    "\n",
    "We create a Sequential model and add layers one at a time until we are happy with our network architecture.\n",
    "\n",
    "The first thing to get right is to ensure the input layer has the right number of input features. This can be specified when creating the first layer with the input_dim argument and setting it to 8 for the 8 input variables.\n",
    "\n",
    "**How do we know the number of layers and their types?**\n",
    "\n",
    "This is a very hard question. There are heuristics that we can use and often the best network structure is found through a process of trial and error experimentation. \n",
    "\n",
    "Generally, you need a network large enough to capture the structure of the problem.\n",
    "\n",
    "**In this example, we will use a fully-connected network structure with three layers.**\n",
    "\n",
    "Fully connected layers are defined using the Dense class. We can specify the number of neurons or nodes in the layer as the first argument, and specify the *activation function* using the activation argument.\n",
    "\n",
    "We will use the *rectified linear unit activation function* referred to as ReLU on the first two layers and the *Sigmoid function* in the output layer.\n",
    "\n",
    "We use a sigmoid on the output layer to ensure our network output is between 0 and 1 and easy to map to either a probability of class 1 or snap to a hard classification of either class with a default threshold of 0.5.\n",
    "\n",
    "We can piece it all together by adding each layer:\n",
    "\n",
    "\n",
    "1. The model expects rows of data with 8 variables (the input_dim=8 argument)\n",
    "2. The first hidden layer has 12 nodes and uses the relu activation function.\n",
    "3. The second hidden layer has 8 nodes and uses the relu activation function.\n",
    "4. The output layer has one node and uses the sigmoid activation function."
   ]
  },
  {
   "cell_type": "code",
   "execution_count": 8,
   "metadata": {},
   "outputs": [],
   "source": [
    "# define the keras model\n",
    "model = Sequential()\n",
    "model.add(Dense(12, input_dim=8, activation='relu'))\n",
    "model.add(Dense(8, activation='relu'))\n",
    "model.add(Dense(1, activation='sigmoid'))"
   ]
  },
  {
   "cell_type": "markdown",
   "metadata": {},
   "source": [
    "## Compile the model\n",
    "\n",
    "Compiling the model uses the efficient numerical libraries under the covers (the so-called backend) such as Theano or TensorFlow. The backend automatically chooses the best way to represent the network for training and making predictions to run on your hardware, such as CPU or GPU or even distributed.\n",
    "\n",
    "When compiling, we must specify some additional properties required when training the network. Remember training a network means finding the best set of weights to map inputs to outputs in our dataset.\n",
    "\n",
    "We must specify the loss function to use to evaluate a set of weights, the optimizer is used to search through different weights for the network and any optional metrics we would like to collect and report during training.\n",
    "\n",
    "We will learn about loss functions in Deep Learning next week.\n",
    "\n",
    "For now, we will define the optimizer as the efficient stochastic gradient descent algorithm “adam“. \n",
    "\n",
    "Finally, because it is a classification problem, we will collect and report the classification accuracy, defined via the metrics argument."
   ]
  },
  {
   "cell_type": "code",
   "execution_count": 9,
   "metadata": {},
   "outputs": [],
   "source": [
    "# compile the keras model\n",
    "model.compile(loss='binary_crossentropy', optimizer='adam', metrics=['accuracy'])"
   ]
  },
  {
   "cell_type": "markdown",
   "metadata": {},
   "source": [
    "## Fit Keras Model\n",
    "\n",
    "We have defined our model and compiled it ready for efficient computation.\n",
    "\n",
    "Now it is time to execute the model on some data.\n",
    "\n",
    "We can train or fit our model on our loaded data by calling the `fit()` function on the model.\n",
    "\n",
    "Training occurs over `epochs` and each epoch is split into `batches`.\n",
    "\n",
    "**Epoch:** One pass through all of the rows in the training dataset.\n",
    "**Batch:** One or more samples considered by the model within an epoch before weights are updated.\n",
    "\n",
    "One `epoch` is comprised of one or more batches, based on the chosen batch size and the model is fit for many epochs. \n",
    "\n",
    "The training process will run for a fixed number of iterations through the dataset called epochs, that we must specify using the epochs argument. We must also set the number of dataset rows that are considered before the model weights are updated within each epoch, called the batch size and set using the batch_size argument.\n",
    "\n",
    "For this problem, we will run for a small number of epochs (150) and use a relatively small batch size of 10.\n",
    "\n",
    "These configurations can be chosen experimentally by trial and error. We want to train the model enough so that it learns a good mapping of rows of input data to the output classification. The model will always have some error, but the amount of error will level out after some point for a given model configuration. This is called model convergence."
   ]
  },
  {
   "cell_type": "code",
   "execution_count": 10,
   "metadata": {},
   "outputs": [
    {
     "name": "stdout",
     "output_type": "stream",
     "text": [
      "Epoch 1/150\n",
      "77/77 [==============================] - 0s 2ms/step - loss: 4.8217 - accuracy: 0.4896\n",
      "Epoch 2/150\n",
      "77/77 [==============================] - 0s 2ms/step - loss: 2.7413 - accuracy: 0.4896\n",
      "Epoch 3/150\n",
      "77/77 [==============================] - 0s 2ms/step - loss: 1.6564 - accuracy: 0.5117\n",
      "Epoch 4/150\n",
      "77/77 [==============================] - 0s 3ms/step - loss: 1.1713 - accuracy: 0.5417\n",
      "Epoch 5/150\n",
      "77/77 [==============================] - 0s 2ms/step - loss: 0.9380 - accuracy: 0.5716\n",
      "Epoch 6/150\n",
      "77/77 [==============================] - 0s 2ms/step - loss: 0.8546 - accuracy: 0.6055\n",
      "Epoch 7/150\n",
      "77/77 [==============================] - 0s 2ms/step - loss: 0.7911 - accuracy: 0.6315\n",
      "Epoch 8/150\n",
      "77/77 [==============================] - ETA: 0s - loss: 0.8012 - accuracy: 0.60 - 0s 2ms/step - loss: 0.8114 - accuracy: 0.6003\n",
      "Epoch 9/150\n",
      "77/77 [==============================] - 0s 2ms/step - loss: 0.7195 - accuracy: 0.6354\n",
      "Epoch 10/150\n",
      "77/77 [==============================] - ETA: 0s - loss: 0.7069 - accuracy: 0.64 - 0s 2ms/step - loss: 0.7169 - accuracy: 0.6380\n",
      "Epoch 11/150\n",
      "77/77 [==============================] - 0s 3ms/step - loss: 0.7045 - accuracy: 0.6367\n",
      "Epoch 12/150\n",
      "77/77 [==============================] - 0s 4ms/step - loss: 0.6715 - accuracy: 0.6484\n",
      "Epoch 13/150\n",
      "77/77 [==============================] - 0s 4ms/step - loss: 0.6620 - accuracy: 0.6615\n",
      "Epoch 14/150\n",
      "77/77 [==============================] - 0s 5ms/step - loss: 0.6435 - accuracy: 0.6471\n",
      "Epoch 15/150\n",
      "77/77 [==============================] - 0s 3ms/step - loss: 0.6703 - accuracy: 0.6458\n",
      "Epoch 16/150\n",
      "77/77 [==============================] - 0s 3ms/step - loss: 0.6525 - accuracy: 0.6510\n",
      "Epoch 17/150\n",
      "77/77 [==============================] - 0s 3ms/step - loss: 0.6418 - accuracy: 0.6667\n",
      "Epoch 18/150\n",
      "77/77 [==============================] - 0s 3ms/step - loss: 0.6160 - accuracy: 0.6875\n",
      "Epoch 19/150\n",
      "77/77 [==============================] - 0s 3ms/step - loss: 0.6599 - accuracy: 0.6562\n",
      "Epoch 20/150\n",
      "77/77 [==============================] - 0s 2ms/step - loss: 0.6205 - accuracy: 0.6810\n",
      "Epoch 21/150\n",
      "77/77 [==============================] - 0s 2ms/step - loss: 0.6220 - accuracy: 0.6784\n",
      "Epoch 22/150\n",
      "77/77 [==============================] - 0s 2ms/step - loss: 0.6205 - accuracy: 0.6797\n",
      "Epoch 23/150\n",
      "77/77 [==============================] - 0s 3ms/step - loss: 0.6291 - accuracy: 0.6628\n",
      "Epoch 24/150\n",
      "77/77 [==============================] - 0s 3ms/step - loss: 0.6087 - accuracy: 0.6836\n",
      "Epoch 25/150\n",
      "77/77 [==============================] - 0s 3ms/step - loss: 0.6111 - accuracy: 0.6758\n",
      "Epoch 26/150\n",
      "77/77 [==============================] - 0s 3ms/step - loss: 0.6082 - accuracy: 0.6836\n",
      "Epoch 27/150\n",
      "77/77 [==============================] - 0s 3ms/step - loss: 0.6009 - accuracy: 0.6667\n",
      "Epoch 28/150\n",
      "77/77 [==============================] - 0s 3ms/step - loss: 0.6010 - accuracy: 0.6745\n",
      "Epoch 29/150\n",
      "77/77 [==============================] - 0s 3ms/step - loss: 0.5864 - accuracy: 0.6940\n",
      "Epoch 30/150\n",
      "77/77 [==============================] - 0s 3ms/step - loss: 0.5824 - accuracy: 0.7083\n",
      "Epoch 31/150\n",
      "77/77 [==============================] - 0s 3ms/step - loss: 0.5816 - accuracy: 0.6992\n",
      "Epoch 32/150\n",
      "77/77 [==============================] - 0s 3ms/step - loss: 0.5911 - accuracy: 0.6862\n",
      "Epoch 33/150\n",
      "77/77 [==============================] - 0s 3ms/step - loss: 0.5897 - accuracy: 0.6771\n",
      "Epoch 34/150\n",
      "77/77 [==============================] - 0s 3ms/step - loss: 0.5686 - accuracy: 0.7018\n",
      "Epoch 35/150\n",
      "77/77 [==============================] - 0s 2ms/step - loss: 0.5825 - accuracy: 0.6940\n",
      "Epoch 36/150\n",
      "77/77 [==============================] - 0s 2ms/step - loss: 0.5847 - accuracy: 0.7044\n",
      "Epoch 37/150\n",
      "77/77 [==============================] - 0s 2ms/step - loss: 0.6134 - accuracy: 0.6654\n",
      "Epoch 38/150\n",
      "77/77 [==============================] - 0s 4ms/step - loss: 0.5735 - accuracy: 0.7201\n",
      "Epoch 39/150\n",
      "77/77 [==============================] - 0s 4ms/step - loss: 0.5640 - accuracy: 0.7109\n",
      "Epoch 40/150\n",
      "77/77 [==============================] - 0s 3ms/step - loss: 0.5562 - accuracy: 0.7214\n",
      "Epoch 41/150\n",
      "77/77 [==============================] - 0s 3ms/step - loss: 0.5558 - accuracy: 0.7240\n",
      "Epoch 42/150\n",
      "77/77 [==============================] - 0s 2ms/step - loss: 0.5870 - accuracy: 0.6927\n",
      "Epoch 43/150\n",
      "77/77 [==============================] - 0s 2ms/step - loss: 0.5660 - accuracy: 0.7031\n",
      "Epoch 44/150\n",
      "77/77 [==============================] - 0s 3ms/step - loss: 0.5537 - accuracy: 0.7174\n",
      "Epoch 45/150\n",
      "77/77 [==============================] - 0s 2ms/step - loss: 0.5704 - accuracy: 0.6953\n",
      "Epoch 46/150\n",
      "77/77 [==============================] - 0s 2ms/step - loss: 0.5528 - accuracy: 0.7292\n",
      "Epoch 47/150\n",
      "77/77 [==============================] - 0s 2ms/step - loss: 0.5453 - accuracy: 0.7227\n",
      "Epoch 48/150\n",
      "77/77 [==============================] - 0s 2ms/step - loss: 0.5547 - accuracy: 0.7214\n",
      "Epoch 49/150\n",
      "77/77 [==============================] - 0s 2ms/step - loss: 0.5541 - accuracy: 0.7096\n",
      "Epoch 50/150\n",
      "77/77 [==============================] - 0s 3ms/step - loss: 0.5419 - accuracy: 0.7331\n",
      "Epoch 51/150\n",
      "77/77 [==============================] - 0s 3ms/step - loss: 0.5715 - accuracy: 0.7188\n",
      "Epoch 52/150\n",
      "77/77 [==============================] - 0s 2ms/step - loss: 0.5540 - accuracy: 0.7148\n",
      "Epoch 53/150\n",
      "77/77 [==============================] - 0s 2ms/step - loss: 0.5607 - accuracy: 0.7161\n",
      "Epoch 54/150\n",
      "77/77 [==============================] - 0s 2ms/step - loss: 0.5408 - accuracy: 0.7318\n",
      "Epoch 55/150\n",
      "77/77 [==============================] - 0s 2ms/step - loss: 0.5457 - accuracy: 0.7266\n",
      "Epoch 56/150\n",
      "77/77 [==============================] - 0s 2ms/step - loss: 0.5436 - accuracy: 0.7357\n",
      "Epoch 57/150\n",
      "77/77 [==============================] - 0s 2ms/step - loss: 0.5506 - accuracy: 0.7148\n",
      "Epoch 58/150\n",
      "77/77 [==============================] - 0s 3ms/step - loss: 0.5614 - accuracy: 0.7188\n",
      "Epoch 59/150\n",
      "77/77 [==============================] - 0s 3ms/step - loss: 0.5598 - accuracy: 0.7109\n",
      "Epoch 60/150\n",
      "77/77 [==============================] - 0s 3ms/step - loss: 0.5367 - accuracy: 0.7331: 0s - loss: 0.5207 - accuracy: 0.\n",
      "Epoch 61/150\n",
      "77/77 [==============================] - 0s 4ms/step - loss: 0.5434 - accuracy: 0.7148\n",
      "Epoch 62/150\n",
      "77/77 [==============================] - 0s 2ms/step - loss: 0.5534 - accuracy: 0.7174\n",
      "Epoch 63/150\n",
      "77/77 [==============================] - 0s 2ms/step - loss: 0.5394 - accuracy: 0.7292\n",
      "Epoch 64/150\n",
      "77/77 [==============================] - 0s 2ms/step - loss: 0.5464 - accuracy: 0.7253\n",
      "Epoch 65/150\n",
      "77/77 [==============================] - 0s 2ms/step - loss: 0.5406 - accuracy: 0.7214\n",
      "Epoch 66/150\n",
      "77/77 [==============================] - 0s 3ms/step - loss: 0.5652 - accuracy: 0.6992\n",
      "Epoch 67/150\n",
      "77/77 [==============================] - 0s 2ms/step - loss: 0.5617 - accuracy: 0.7109\n",
      "Epoch 68/150\n",
      "77/77 [==============================] - 0s 2ms/step - loss: 0.5253 - accuracy: 0.7383\n",
      "Epoch 69/150\n",
      "77/77 [==============================] - 0s 2ms/step - loss: 0.5305 - accuracy: 0.7318\n",
      "Epoch 70/150\n",
      "77/77 [==============================] - 0s 3ms/step - loss: 0.5217 - accuracy: 0.7435\n",
      "Epoch 71/150\n",
      "77/77 [==============================] - 0s 4ms/step - loss: 0.5555 - accuracy: 0.7109\n",
      "Epoch 72/150\n",
      "77/77 [==============================] - 0s 3ms/step - loss: 0.5453 - accuracy: 0.7214\n",
      "Epoch 73/150\n",
      "77/77 [==============================] - 0s 3ms/step - loss: 0.5454 - accuracy: 0.7253\n",
      "Epoch 74/150\n",
      "77/77 [==============================] - 0s 3ms/step - loss: 0.5333 - accuracy: 0.7305\n",
      "Epoch 75/150\n",
      "77/77 [==============================] - 0s 3ms/step - loss: 0.5251 - accuracy: 0.7305\n",
      "Epoch 76/150\n",
      "77/77 [==============================] - 0s 4ms/step - loss: 0.5248 - accuracy: 0.7448\n",
      "Epoch 77/150\n",
      "77/77 [==============================] - 0s 3ms/step - loss: 0.5420 - accuracy: 0.7318\n",
      "Epoch 78/150\n",
      "77/77 [==============================] - 0s 2ms/step - loss: 0.5295 - accuracy: 0.7370\n",
      "Epoch 79/150\n",
      "77/77 [==============================] - 0s 3ms/step - loss: 0.5115 - accuracy: 0.7435\n",
      "Epoch 80/150\n",
      "77/77 [==============================] - 0s 2ms/step - loss: 0.5380 - accuracy: 0.7279\n",
      "Epoch 81/150\n"
     ]
    },
    {
     "name": "stdout",
     "output_type": "stream",
     "text": [
      "77/77 [==============================] - 0s 3ms/step - loss: 0.5189 - accuracy: 0.7539\n",
      "Epoch 82/150\n",
      "77/77 [==============================] - 0s 2ms/step - loss: 0.5370 - accuracy: 0.7331\n",
      "Epoch 83/150\n",
      "77/77 [==============================] - 0s 2ms/step - loss: 0.5226 - accuracy: 0.7370\n",
      "Epoch 84/150\n",
      "77/77 [==============================] - 0s 2ms/step - loss: 0.5403 - accuracy: 0.7305\n",
      "Epoch 85/150\n",
      "77/77 [==============================] - 0s 2ms/step - loss: 0.5423 - accuracy: 0.7083\n",
      "Epoch 86/150\n",
      "77/77 [==============================] - 0s 3ms/step - loss: 0.5309 - accuracy: 0.7396\n",
      "Epoch 87/150\n",
      "77/77 [==============================] - 0s 3ms/step - loss: 0.5183 - accuracy: 0.7500\n",
      "Epoch 88/150\n",
      "77/77 [==============================] - 0s 2ms/step - loss: 0.5462 - accuracy: 0.7253\n",
      "Epoch 89/150\n",
      "77/77 [==============================] - 0s 3ms/step - loss: 0.5089 - accuracy: 0.7578\n",
      "Epoch 90/150\n",
      "77/77 [==============================] - 0s 3ms/step - loss: 0.5151 - accuracy: 0.7565\n",
      "Epoch 91/150\n",
      "77/77 [==============================] - 0s 3ms/step - loss: 0.5230 - accuracy: 0.7266\n",
      "Epoch 92/150\n",
      "77/77 [==============================] - 0s 3ms/step - loss: 0.5228 - accuracy: 0.7448\n",
      "Epoch 93/150\n",
      "77/77 [==============================] - 0s 3ms/step - loss: 0.5239 - accuracy: 0.7344\n",
      "Epoch 94/150\n",
      "77/77 [==============================] - 0s 3ms/step - loss: 0.5155 - accuracy: 0.7552\n",
      "Epoch 95/150\n",
      "77/77 [==============================] - 0s 2ms/step - loss: 0.5256 - accuracy: 0.7344\n",
      "Epoch 96/150\n",
      "77/77 [==============================] - 0s 3ms/step - loss: 0.5348 - accuracy: 0.7409\n",
      "Epoch 97/150\n",
      "77/77 [==============================] - 0s 3ms/step - loss: 0.5335 - accuracy: 0.7448\n",
      "Epoch 98/150\n",
      "77/77 [==============================] - 0s 2ms/step - loss: 0.5035 - accuracy: 0.7591\n",
      "Epoch 99/150\n",
      "77/77 [==============================] - 0s 2ms/step - loss: 0.5119 - accuracy: 0.7526\n",
      "Epoch 100/150\n",
      "77/77 [==============================] - 0s 3ms/step - loss: 0.5184 - accuracy: 0.7422\n",
      "Epoch 101/150\n",
      "77/77 [==============================] - 0s 2ms/step - loss: 0.5224 - accuracy: 0.7357\n",
      "Epoch 102/150\n",
      "77/77 [==============================] - 0s 3ms/step - loss: 0.5092 - accuracy: 0.7435\n",
      "Epoch 103/150\n",
      "77/77 [==============================] - 0s 3ms/step - loss: 0.5071 - accuracy: 0.7513\n",
      "Epoch 104/150\n",
      "77/77 [==============================] - 0s 3ms/step - loss: 0.5583 - accuracy: 0.7253\n",
      "Epoch 105/150\n",
      "77/77 [==============================] - 0s 3ms/step - loss: 0.5207 - accuracy: 0.7448\n",
      "Epoch 106/150\n",
      "77/77 [==============================] - 0s 4ms/step - loss: 0.4979 - accuracy: 0.7513\n",
      "Epoch 107/150\n",
      "77/77 [==============================] - 0s 3ms/step - loss: 0.5126 - accuracy: 0.7422\n",
      "Epoch 108/150\n",
      "77/77 [==============================] - 0s 2ms/step - loss: 0.5160 - accuracy: 0.7318\n",
      "Epoch 109/150\n",
      "77/77 [==============================] - 0s 3ms/step - loss: 0.5055 - accuracy: 0.7539\n",
      "Epoch 110/150\n",
      "77/77 [==============================] - 0s 3ms/step - loss: 0.5168 - accuracy: 0.7396\n",
      "Epoch 111/150\n",
      "77/77 [==============================] - 0s 3ms/step - loss: 0.5015 - accuracy: 0.7565\n",
      "Epoch 112/150\n",
      "77/77 [==============================] - 0s 3ms/step - loss: 0.5378 - accuracy: 0.7292\n",
      "Epoch 113/150\n",
      "77/77 [==============================] - 0s 4ms/step - loss: 0.5167 - accuracy: 0.7461\n",
      "Epoch 114/150\n",
      "77/77 [==============================] - 0s 3ms/step - loss: 0.5041 - accuracy: 0.7435\n",
      "Epoch 115/150\n",
      "77/77 [==============================] - 0s 2ms/step - loss: 0.5067 - accuracy: 0.7591\n",
      "Epoch 116/150\n",
      "77/77 [==============================] - 0s 2ms/step - loss: 0.5196 - accuracy: 0.7487\n",
      "Epoch 117/150\n",
      "77/77 [==============================] - 0s 2ms/step - loss: 0.5679 - accuracy: 0.7201\n",
      "Epoch 118/150\n",
      "77/77 [==============================] - 0s 3ms/step - loss: 0.5173 - accuracy: 0.7396\n",
      "Epoch 119/150\n",
      "77/77 [==============================] - 0s 3ms/step - loss: 0.5022 - accuracy: 0.7539\n",
      "Epoch 120/150\n",
      "77/77 [==============================] - 0s 3ms/step - loss: 0.5220 - accuracy: 0.7396\n",
      "Epoch 121/150\n",
      "77/77 [==============================] - 0s 3ms/step - loss: 0.5059 - accuracy: 0.7487\n",
      "Epoch 122/150\n",
      "77/77 [==============================] - 0s 3ms/step - loss: 0.4863 - accuracy: 0.7708\n",
      "Epoch 123/150\n",
      "77/77 [==============================] - 0s 3ms/step - loss: 0.5085 - accuracy: 0.7487\n",
      "Epoch 124/150\n",
      "77/77 [==============================] - 0s 3ms/step - loss: 0.4911 - accuracy: 0.7552\n",
      "Epoch 125/150\n",
      "77/77 [==============================] - 0s 3ms/step - loss: 0.5002 - accuracy: 0.7643\n",
      "Epoch 126/150\n",
      "77/77 [==============================] - 0s 3ms/step - loss: 0.5116 - accuracy: 0.7552\n",
      "Epoch 127/150\n",
      "77/77 [==============================] - 0s 3ms/step - loss: 0.5039 - accuracy: 0.7578\n",
      "Epoch 128/150\n",
      "77/77 [==============================] - 0s 3ms/step - loss: 0.5142 - accuracy: 0.7344\n",
      "Epoch 129/150\n",
      "77/77 [==============================] - 0s 3ms/step - loss: 0.5040 - accuracy: 0.7500\n",
      "Epoch 130/150\n",
      "77/77 [==============================] - 0s 3ms/step - loss: 0.4960 - accuracy: 0.7526\n",
      "Epoch 131/150\n",
      "77/77 [==============================] - ETA: 0s - loss: 0.5002 - accuracy: 0.76 - 0s 3ms/step - loss: 0.5101 - accuracy: 0.7552\n",
      "Epoch 132/150\n",
      "77/77 [==============================] - 0s 3ms/step - loss: 0.4963 - accuracy: 0.7591\n",
      "Epoch 133/150\n",
      "77/77 [==============================] - 0s 3ms/step - loss: 0.4879 - accuracy: 0.7617\n",
      "Epoch 134/150\n",
      "77/77 [==============================] - 0s 3ms/step - loss: 0.4963 - accuracy: 0.7604\n",
      "Epoch 135/150\n",
      "77/77 [==============================] - 0s 3ms/step - loss: 0.4933 - accuracy: 0.7643\n",
      "Epoch 136/150\n",
      "77/77 [==============================] - 0s 3ms/step - loss: 0.4870 - accuracy: 0.7669\n",
      "Epoch 137/150\n",
      "77/77 [==============================] - 0s 3ms/step - loss: 0.4950 - accuracy: 0.7513\n",
      "Epoch 138/150\n",
      "77/77 [==============================] - 0s 3ms/step - loss: 0.5480 - accuracy: 0.7292\n",
      "Epoch 139/150\n",
      "77/77 [==============================] - 0s 3ms/step - loss: 0.4917 - accuracy: 0.7552\n",
      "Epoch 140/150\n",
      "77/77 [==============================] - 0s 3ms/step - loss: 0.4844 - accuracy: 0.7760\n",
      "Epoch 141/150\n",
      "77/77 [==============================] - 0s 3ms/step - loss: 0.4955 - accuracy: 0.7552\n",
      "Epoch 142/150\n",
      "77/77 [==============================] - 0s 3ms/step - loss: 0.5057 - accuracy: 0.7448\n",
      "Epoch 143/150\n",
      "77/77 [==============================] - 0s 2ms/step - loss: 0.5359 - accuracy: 0.7461\n",
      "Epoch 144/150\n",
      "77/77 [==============================] - 0s 3ms/step - loss: 0.5079 - accuracy: 0.7500\n",
      "Epoch 145/150\n",
      "77/77 [==============================] - 0s 3ms/step - loss: 0.5003 - accuracy: 0.7435\n",
      "Epoch 146/150\n",
      "77/77 [==============================] - 0s 3ms/step - loss: 0.4994 - accuracy: 0.7552\n",
      "Epoch 147/150\n",
      "77/77 [==============================] - 0s 3ms/step - loss: 0.5209 - accuracy: 0.7370\n",
      "Epoch 148/150\n",
      "77/77 [==============================] - 0s 3ms/step - loss: 0.4991 - accuracy: 0.7604\n",
      "Epoch 149/150\n",
      "77/77 [==============================] - 0s 3ms/step - loss: 0.4917 - accuracy: 0.7565\n",
      "Epoch 150/150\n",
      "77/77 [==============================] - 0s 3ms/step - loss: 0.4987 - accuracy: 0.7500\n"
     ]
    },
    {
     "data": {
      "text/plain": [
       "<tensorflow.python.keras.callbacks.History at 0x7f477c464070>"
      ]
     },
     "execution_count": 10,
     "metadata": {},
     "output_type": "execute_result"
    }
   ],
   "source": [
    "# fit the keras model on the dataset\n",
    "model.fit(X, y, epochs=150, batch_size=10)"
   ]
  },
  {
   "cell_type": "markdown",
   "metadata": {},
   "source": [
    "## Evaluate Keras Model\n",
    "\n",
    "\n",
    "We have trained our neural network on the entire dataset and we can evaluate the performance of the network on the same dataset.\n",
    "\n",
    "This will only give us an idea of how well we have modeled the dataset (e.g. train accuracy), but no idea of how well the algorithm might perform on new data. We have done this for simplicity, but ideally, you could separate your data into train and test datasets for training and evaluation of your model.\n",
    "\n",
    "You can evaluate your model on your training dataset using the `evaluate()` function on your model and pass it the same input and output used to train the model.\n",
    "\n",
    "This will generate a prediction for each input and output pair and collect scores, including the average loss and any metrics you have configured, such as accuracy.\n",
    "\n",
    "The `evaluate()` function will return a list with two values. The first will be the loss of the model on the dataset and the second will be the accuracy of the model on the dataset. We are only interested in reporting the accuracy, so we will ignore the loss value."
   ]
  },
  {
   "cell_type": "code",
   "execution_count": 11,
   "metadata": {},
   "outputs": [
    {
     "name": "stdout",
     "output_type": "stream",
     "text": [
      "24/24 [==============================] - 0s 2ms/step - loss: 0.4715 - accuracy: 0.7695\n",
      "Accuracy: 76.95\n"
     ]
    }
   ],
   "source": [
    "# evaluate the keras model\n",
    "_, accuracy = model.evaluate(X, y)\n",
    "print('Accuracy: %.2f' % (accuracy*100))"
   ]
  },
  {
   "cell_type": "markdown",
   "metadata": {},
   "source": [
    "## Make Predictions\n",
    "\n",
    "After the model is trained, how can we make predictions on new data?\n",
    "\n",
    "We can adapt the above example and use it to generate predictions on the training dataset, pretending it is a new dataset we have not seen before.\n",
    "\n",
    "Making predictions is as easy as calling the `predict()` function on the model. We are using a sigmoid activation function on the output layer, so the predictions will be a probability in the range between 0 and 1. We can easily convert them into a crisp binary prediction for this classification task by rounding them."
   ]
  },
  {
   "cell_type": "code",
   "execution_count": 12,
   "metadata": {},
   "outputs": [],
   "source": [
    "# make probability predictions with the model\n",
    "predictions = model.predict(X)\n",
    "# round predictions \n",
    "rounded = [round(x[0]) for x in predictions]"
   ]
  },
  {
   "cell_type": "markdown",
   "metadata": {},
   "source": [
    "Alternately, we can call the `predict_classes()` function on the model to predict crisp classes directly."
   ]
  },
  {
   "cell_type": "code",
   "execution_count": 13,
   "metadata": {},
   "outputs": [
    {
     "name": "stdout",
     "output_type": "stream",
     "text": [
      "WARNING:tensorflow:From <ipython-input-13-e5fbfa914ea8>:2: Sequential.predict_classes (from tensorflow.python.keras.engine.sequential) is deprecated and will be removed after 2021-01-01.\n",
      "Instructions for updating:\n",
      "Please use instead:* `np.argmax(model.predict(x), axis=-1)`,   if your model does multi-class classification   (e.g. if it uses a `softmax` last-layer activation).* `(model.predict(x) > 0.5).astype(\"int32\")`,   if your model does binary classification   (e.g. if it uses a `sigmoid` last-layer activation).\n"
     ]
    }
   ],
   "source": [
    "# make class predictions with the model\n",
    "predictions = model.predict_classes(X)"
   ]
  },
  {
   "cell_type": "code",
   "execution_count": 14,
   "metadata": {},
   "outputs": [
    {
     "ename": "NameError",
     "evalue": "name 'x' is not defined",
     "output_type": "error",
     "traceback": [
      "\u001b[0;31m---------------------------------------------------------------------------\u001b[0m",
      "\u001b[0;31mNameError\u001b[0m                                 Traceback (most recent call last)",
      "\u001b[0;32m<ipython-input-14-7bd020166b00>\u001b[0m in \u001b[0;36m<module>\u001b[0;34m\u001b[0m\n\u001b[0;32m----> 1\u001b[0;31m \u001b[0;34m(\u001b[0m\u001b[0mmodel\u001b[0m\u001b[0;34m.\u001b[0m\u001b[0mpredict\u001b[0m\u001b[0;34m(\u001b[0m\u001b[0mx\u001b[0m\u001b[0;34m)\u001b[0m \u001b[0;34m>\u001b[0m \u001b[0;36m0.5\u001b[0m\u001b[0;34m)\u001b[0m\u001b[0;34m.\u001b[0m\u001b[0mastype\u001b[0m\u001b[0;34m(\u001b[0m\u001b[0;34m\"int32\"\u001b[0m\u001b[0;34m)\u001b[0m\u001b[0;34m\u001b[0m\u001b[0;34m\u001b[0m\u001b[0m\n\u001b[0m",
      "\u001b[0;31mNameError\u001b[0m: name 'x' is not defined"
     ]
    }
   ],
   "source": [
    "(model.predict(x) > 0.5).astype(\"int32\")"
   ]
  },
  {
   "cell_type": "code",
   "execution_count": null,
   "metadata": {},
   "outputs": [],
   "source": [
    "predictions"
   ]
  },
  {
   "cell_type": "markdown",
   "metadata": {},
   "source": [
    "## RECAP\n",
    "\n",
    "- Load the data. \n",
    "- Split and preprocess the data.\n",
    "- Define a neural network in Keras.\n",
    "- Compile a Keras model using the efficient numerical backend.\n",
    "- Train a model on data.\n",
    "- Evaluate a model on data.\n",
    "- Make predictions with the model."
   ]
  },
  {
   "cell_type": "code",
   "execution_count": null,
   "metadata": {},
   "outputs": [],
   "source": []
  }
 ],
 "metadata": {
  "kernelspec": {
   "display_name": "Python 3",
   "language": "python",
   "name": "python3"
  },
  "language_info": {
   "codemirror_mode": {
    "name": "ipython",
    "version": 3
   },
   "file_extension": ".py",
   "mimetype": "text/x-python",
   "name": "python",
   "nbconvert_exporter": "python",
   "pygments_lexer": "ipython3",
   "version": "3.8.6"
  }
 },
 "nbformat": 4,
 "nbformat_minor": 4
}
