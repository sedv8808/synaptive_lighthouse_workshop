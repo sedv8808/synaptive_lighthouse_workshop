{
 "cells": [
  {
   "cell_type": "markdown",
   "metadata": {},
   "source": [
    "# Image Recognition Walkthrough"
   ]
  },
  {
   "cell_type": "markdown",
   "metadata": {},
   "source": [
    "Today we are going to work with Cats and Dogs data because Cats and Dogs are fun. :) "
   ]
  },
  {
   "cell_type": "markdown",
   "metadata": {},
   "source": [
    "Let's remember the steps of a ML workflow:\n",
    "- Collecting data\n",
    "- Importing libraries and splitting data to train and test\n",
    "- Building the network\n",
    "- Data augmentation\n",
    "- Training\n",
    "- Testing"
   ]
  },
  {
   "cell_type": "markdown",
   "metadata": {},
   "source": [
    "Step 1 - Collecting Data:  \n",
    "https://drive.google.com/file/d/1FTCTZaNkgmAyoQ2pZYR4LKxcXI4bLp00/view"
   ]
  },
  {
   "cell_type": "markdown",
   "metadata": {},
   "source": [
    "Step 2: Loading the libraries"
   ]
  },
  {
   "cell_type": "code",
   "execution_count": 2,
   "metadata": {},
   "outputs": [],
   "source": [
    "from tensorflow.keras.models import Sequential\n",
    "from tensorflow.keras.layers import Convolution2D\n",
    "from tensorflow.keras.layers import MaxPooling2D\n",
    "from tensorflow.keras.layers import Flatten\n",
    "from tensorflow.keras.layers import Dense"
   ]
  },
  {
   "cell_type": "markdown",
   "metadata": {},
   "source": [
    "Step 3 - Building a CNN\n",
    "\n",
    "Today, we will have a simple architecture. \n",
    "It consists of four layers:\n",
    "\n",
    "1. Convolution\n",
    "2. Pooling\n",
    "3. Flattening\n",
    "4. Full connection"
   ]
  },
  {
   "cell_type": "code",
   "execution_count": 3,
   "metadata": {},
   "outputs": [],
   "source": [
    "# Initialising the CNN\n",
    "classifier = Sequential()\n",
    "\n",
    "# Step 1 - Convolution\n",
    "classifier.add(Convolution2D(32, 3, 3, input_shape = (64, 64, 3), activation = 'relu'))\n",
    "# Step 2 - Pooling\n",
    "classifier.add(MaxPooling2D(pool_size = (2, 2)))\n",
    "# Step 3 - Flattening\n",
    "classifier.add(Flatten())\n",
    "# Step 4 - Full connection\n",
    "classifier.add(Dense(128, activation = 'relu'))\n",
    "classifier.add(Dense(1, activation = 'sigmoid'))\n",
    "\n",
    "# Compiling the CNN\n",
    "classifier.compile(optimizer = 'adam', loss = 'binary_crossentropy', metrics = ['accuracy'])"
   ]
  },
  {
   "cell_type": "markdown",
   "metadata": {},
   "source": [
    "1. Convolution: Extract features from the input image. \n",
    "    * Filters: The dimensionality of the output space (number of output filters in the convolution). \n",
    "    * Kernel_size: Height and width of the 2D convolution window.\n",
    "    * Strides: Side of the strides of the convolution along with the height and width. \n",
    "      \n",
    "      \n",
    "      \n",
    "2. Pooling: Define a spatial neighborhood (in our case a 2×2 window) and take the largest element from the rectified feature map within that window.\n",
    "\n",
    "\n",
    "3. Flattening: Convert the matrix into a 1D array which can be the input of the final Neural Network.\n",
    "\n",
    "\n",
    "4. Full Connection: Connect our convolutional network to a Neural Network that does final predictions."
   ]
  },
  {
   "cell_type": "markdown",
   "metadata": {},
   "source": [
    "Step 4 - Data Augmentation\n",
    "\n",
    "Suppose we have a limited number of images for our network – what do we do? We don’t need to hunt for new images that can be added to our dataset. \n",
    "\n",
    "We can make alterations to our existing dataset – minor changes such as flips, translations, or rotations – and our neural network will think these are distinct images anyway.\n",
    "\n",
    "Data augmentation is a way of reducing overfitting of models, where we increase the amount of training data using only the information from our training data."
   ]
  },
  {
   "cell_type": "code",
   "execution_count": 4,
   "metadata": {},
   "outputs": [
    {
     "name": "stdout",
     "output_type": "stream",
     "text": [
      "Found 8000 images belonging to 2 classes.\n",
      "Found 2000 images belonging to 2 classes.\n"
     ]
    }
   ],
   "source": [
    "from tensorflow.keras.preprocessing.image import ImageDataGenerator\n",
    "\n",
    "train_datagen = ImageDataGenerator(rescale = 1./255,\n",
    "                                   shear_range = 0.2,\n",
    "                                   zoom_range = 0.2,\n",
    "                                   horizontal_flip = True)\n",
    "\n",
    "test_datagen = ImageDataGenerator(rescale = 1./255)\n",
    "\n",
    "training_set = train_datagen.flow_from_directory('dataset/training_set',\n",
    "                                                 target_size = (64, 64),\n",
    "                                                 batch_size = 32,\n",
    "                                                 class_mode = 'binary')\n",
    "\n",
    "test_set = test_datagen.flow_from_directory('dataset/test_set',\n",
    "                                            target_size = (64, 64),\n",
    "                                            batch_size = 32,\n",
    "                                            class_mode = 'binary')"
   ]
  },
  {
   "cell_type": "markdown",
   "metadata": {},
   "source": [
    "Fitting the model\n",
    "\n",
    "Play with the number of epochs and batches. The current model is slow but performs \"reasonably well\" if you do not have a GPU.\n",
    "\n",
    "With an increasing number of epochs, the accuracy will increase, too."
   ]
  },
  {
   "cell_type": "code",
   "execution_count": 5,
   "metadata": {},
   "outputs": [
    {
     "name": "stdout",
     "output_type": "stream",
     "text": [
      "WARNING:tensorflow:From <ipython-input-5-2495a7dd8498>:4: Model.fit_generator (from tensorflow.python.keras.engine.training) is deprecated and will be removed in a future version.\n",
      "Instructions for updating:\n",
      "Please use Model.fit, which supports generators.\n",
      "Epoch 1/15\n",
      "70/70 [==============================] - 18s 255ms/step - loss: 0.6928 - accuracy: 0.5402 - val_loss: 0.6715 - val_accuracy: 0.6120\n",
      "Epoch 2/15\n",
      "70/70 [==============================] - 14s 194ms/step - loss: 0.6757 - accuracy: 0.5835 - val_loss: 0.6573 - val_accuracy: 0.5875\n",
      "Epoch 3/15\n",
      "70/70 [==============================] - 13s 181ms/step - loss: 0.6415 - accuracy: 0.6246 - val_loss: 0.6253 - val_accuracy: 0.6540\n",
      "Epoch 4/15\n",
      "70/70 [==============================] - 12s 172ms/step - loss: 0.6123 - accuracy: 0.6687 - val_loss: 0.6104 - val_accuracy: 0.6665\n",
      "Epoch 5/15\n",
      "70/70 [==============================] - 12s 174ms/step - loss: 0.6086 - accuracy: 0.6732 - val_loss: 0.5904 - val_accuracy: 0.6900\n",
      "Epoch 6/15\n",
      "70/70 [==============================] - 12s 170ms/step - loss: 0.6026 - accuracy: 0.6558 - val_loss: 0.6072 - val_accuracy: 0.6595\n",
      "Epoch 7/15\n",
      "70/70 [==============================] - 12s 168ms/step - loss: 0.5886 - accuracy: 0.6924 - val_loss: 0.5684 - val_accuracy: 0.7190\n",
      "Epoch 8/15\n",
      "70/70 [==============================] - 11s 152ms/step - loss: 0.5793 - accuracy: 0.6875 - val_loss: 0.5790 - val_accuracy: 0.6950\n",
      "Epoch 9/15\n",
      "70/70 [==============================] - 11s 152ms/step - loss: 0.5660 - accuracy: 0.7179 - val_loss: 0.5571 - val_accuracy: 0.7240\n",
      "Epoch 10/15\n",
      "70/70 [==============================] - 11s 151ms/step - loss: 0.5623 - accuracy: 0.7170 - val_loss: 0.5610 - val_accuracy: 0.7235\n",
      "Epoch 11/15\n",
      "70/70 [==============================] - 11s 150ms/step - loss: 0.5567 - accuracy: 0.7196 - val_loss: 0.5511 - val_accuracy: 0.7270\n",
      "Epoch 12/15\n",
      "70/70 [==============================] - 10s 149ms/step - loss: 0.5437 - accuracy: 0.7286 - val_loss: 0.5571 - val_accuracy: 0.7325\n",
      "Epoch 13/15\n",
      "70/70 [==============================] - 11s 151ms/step - loss: 0.5544 - accuracy: 0.7147 - val_loss: 0.5345 - val_accuracy: 0.7385\n",
      "Epoch 14/15\n",
      "70/70 [==============================] - 10s 147ms/step - loss: 0.5332 - accuracy: 0.7375 - val_loss: 0.5391 - val_accuracy: 0.7275\n",
      "Epoch 15/15\n",
      "70/70 [==============================] - 11s 158ms/step - loss: 0.5474 - accuracy: 0.7201 - val_loss: 0.5638 - val_accuracy: 0.7190\n"
     ]
    }
   ],
   "source": [
    "history = classifier.fit_generator(training_set,\n",
    "                         steps_per_epoch = 70,\n",
    "                         epochs = 15,\n",
    "                         validation_data = test_set)"
   ]
  },
  {
   "cell_type": "markdown",
   "metadata": {},
   "source": [
    "Step 5. Evaluating the model"
   ]
  },
  {
   "cell_type": "code",
   "execution_count": 6,
   "metadata": {},
   "outputs": [
    {
     "data": {
      "text/plain": [
       "<Figure size 640x480 with 1 Axes>"
      ]
     },
     "metadata": {},
     "output_type": "display_data"
    }
   ],
   "source": [
    "from matplotlib import pyplot as plt\n",
    "# plot history\n",
    "plt.plot(history.history['loss'], label='train')\n",
    "plt.plot(history.history['val_loss'], label='test')\n",
    "plt.legend()\n",
    "plt.show()"
   ]
  },
  {
   "cell_type": "markdown",
   "metadata": {},
   "source": [
    "Observations: "
   ]
  },
  {
   "cell_type": "markdown",
   "metadata": {},
   "source": [
    "Let's try something fun. This is my own personal cat and my own personal dog. Let's see if the network says anything about them."
   ]
  },
  {
   "cell_type": "markdown",
   "metadata": {},
   "source": [
    "![mypet](dataset/mypet1.jpg)"
   ]
  },
  {
   "cell_type": "code",
   "execution_count": 10,
   "metadata": {},
   "outputs": [
    {
     "name": "stdout",
     "output_type": "stream",
     "text": [
      "cat\n"
     ]
    }
   ],
   "source": [
    "import numpy as np\n",
    "from tensorflow.keras.preprocessing import image\n",
    "# loading an image from the disk\n",
    "test_image = image.load_img('dataset/mycat2.jpg', target_size = (64, 64))\n",
    "# converting the image to a numpy array\n",
    "test_image = image.img_to_array(test_image)\n",
    "test_image = np.expand_dims(test_image, axis = 0)\n",
    "result = classifier.predict(test_image)\n",
    "# print(training_set.class_indices)\n",
    "# our cut-off\n",
    "if result[0][0] > 0.5:\n",
    "    prediction = 'dog'\n",
    "else:\n",
    "    prediction = 'cat'\n",
    "print(prediction)"
   ]
  },
  {
   "cell_type": "code",
   "execution_count": null,
   "metadata": {},
   "outputs": [],
   "source": []
  }
 ],
 "metadata": {
  "kernelspec": {
   "display_name": "Python 3",
   "language": "python",
   "name": "python3"
  },
  "language_info": {
   "codemirror_mode": {
    "name": "ipython",
    "version": 3
   },
   "file_extension": ".py",
   "mimetype": "text/x-python",
   "name": "python",
   "nbconvert_exporter": "python",
   "pygments_lexer": "ipython3",
   "version": "3.7.4"
  }
 },
 "nbformat": 4,
 "nbformat_minor": 2
}
